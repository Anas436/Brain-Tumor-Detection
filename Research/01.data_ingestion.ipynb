{
 "cells": [
  {
   "cell_type": "code",
   "execution_count": 1,
   "metadata": {},
   "outputs": [
    {
     "data": {
      "text/plain": [
       "'d:\\\\DeepLearning(project-2)\\\\Research'"
      ]
     },
     "execution_count": 1,
     "metadata": {},
     "output_type": "execute_result"
    }
   ],
   "source": [
    "%pwd"
   ]
  },
  {
   "cell_type": "code",
   "execution_count": 2,
   "metadata": {},
   "outputs": [],
   "source": [
    "import os"
   ]
  },
  {
   "cell_type": "code",
   "execution_count": 3,
   "metadata": {},
   "outputs": [],
   "source": [
    "os.chdir('../')"
   ]
  },
  {
   "cell_type": "code",
   "execution_count": 4,
   "metadata": {},
   "outputs": [
    {
     "data": {
      "text/plain": [
       "'d:\\\\DeepLearning(project-2)'"
      ]
     },
     "execution_count": 4,
     "metadata": {},
     "output_type": "execute_result"
    }
   ],
   "source": [
    "%pwd"
   ]
  },
  {
   "cell_type": "code",
   "execution_count": 5,
   "metadata": {},
   "outputs": [],
   "source": [
    "import os \n",
    "import sys\n",
    "from dataclasses import dataclass\n",
    "from pathlib import Path \n",
    "import gdown\n",
    "import zipfile\n",
    "sys.path.append(os.path.abspath(os.path.join(os.path.dirname(os.getcwd()),'../')))\n",
    "from src.logger import logging\n",
    "from src.constant import CONFIG_FILE_PATH,PARAMS_FILE_PATH\n",
    "from src.exception import CustomException\n",
    "from src.utils.common import read_yaml,create_directories"
   ]
  },
  {
   "cell_type": "code",
   "execution_count": 6,
   "metadata": {},
   "outputs": [],
   "source": [
    "@dataclass(frozen=True)\n",
    "class DataingestionConfig:\n",
    "    root_dir: Path\n",
    "    source_url: str\n",
    "    zip_path: Path\n",
    "    unzip_path: Path"
   ]
  },
  {
   "cell_type": "code",
   "execution_count": 7,
   "metadata": {},
   "outputs": [],
   "source": [
    "class DataingestionConfigManager:\n",
    "    \n",
    "    def __init__(self,cofig_file_path=CONFIG_FILE_PATH,\n",
    "                 params_file_path=PARAMS_FILE_PATH):\n",
    "        self.config = read_yaml(cofig_file_path)\n",
    "        self.params = read_yaml(params_file_path)\n",
    "        \n",
    "        create_directories([self.config.artifacts_root])\n",
    "        \n",
    "    def get_data_config_manager(self) ->DataingestionConfig:\n",
    "        config = self.config.data_ingestion\n",
    "        create_directories([config.root_dir])\n",
    "        \n",
    "        ingestion_manager = DataingestionConfig(\n",
    "            root_dir = Path(config.root_dir),\n",
    "            source_url= str(config.source_url),\n",
    "            zip_path = Path(config.zip_path),\n",
    "            unzip_path = Path(config.unzip_path)\n",
    "        )\n",
    "        return ingestion_manager"
   ]
  },
  {
   "cell_type": "code",
   "execution_count": 8,
   "metadata": {},
   "outputs": [],
   "source": [
    "class Dataingestion:\n",
    "    \n",
    "    def __init__(self,config: DataingestionConfig):\n",
    "        self.config = config\n",
    "        \n",
    "    def download_dataset(self):\n",
    "       try: \n",
    "            source_url = self.config.source_url\n",
    "            zip_dir = self.config.zip_path\n",
    "            os.makedirs(\"artifacts/data_ingestion\",exist_ok=True)\n",
    "            \n",
    "            id_name = source_url.split('/')[-2]\n",
    "            prefix =  'https://drive.google.com/uc?/export=download&id='\n",
    "            gdown.download(prefix+id_name,str(zip_dir))\n",
    "       except Exception as e:\n",
    "           raise CustomException(e,sys)\n",
    "    def Unzip_dataset(self):\n",
    "        zip_dir = self.config.zip_path\n",
    "        unzip_dir = self.config.unzip_path\n",
    "        os.makedirs(unzip_dir,exist_ok=True)\n",
    "        with zipfile.ZipFile(zip_dir,'r') as zip_obj:\n",
    "            zip_obj.extractall(unzip_dir)\n",
    "    \n",
    "        "
   ]
  },
  {
   "cell_type": "code",
   "execution_count": 9,
   "metadata": {},
   "outputs": [
    {
     "name": "stdout",
     "output_type": "stream",
     "text": [
      "[2025-02-19 00:01:54,490 - 34 yaml file: config\\config.yaml loaded successfully]\n",
      "[2025-02-19 00:01:54,495 - 34 yaml file: params\\params.yaml loaded successfully]\n",
      "[2025-02-19 00:01:54,498 - 54 created directory at: artifacts]\n",
      "[2025-02-19 00:01:54,500 - 54 created directory at: artifacts/data_ingestion]\n"
     ]
    },
    {
     "name": "stderr",
     "output_type": "stream",
     "text": [
      "Downloading...\n",
      "From: https://drive.google.com/uc?/export=download&id=1JN9ZSCdfhIXujUBmZuyd_J7Kce-D5T1Z\n",
      "To: d:\\DeepLearning(project-2)\\artifacts\\data_ingestion\\data.zip\n",
      "100%|██████████| 7.91M/7.91M [00:04<00:00, 1.66MB/s]\n"
     ]
    }
   ],
   "source": [
    "try:\n",
    "    data_ingestion_manager = DataingestionConfigManager()\n",
    "    data_ingestion_config  = Dataingestion(config=data_ingestion_manager.get_data_config_manager())\n",
    "    data_ingestion_config.download_dataset()\n",
    "    data_ingestion_config.Unzip_dataset()\n",
    "except Exception as e :\n",
    "    raise CustomException(e,sys)"
   ]
  },
  {
   "cell_type": "code",
   "execution_count": null,
   "metadata": {},
   "outputs": [],
   "source": []
  },
  {
   "cell_type": "code",
   "execution_count": null,
   "metadata": {},
   "outputs": [],
   "source": []
  },
  {
   "cell_type": "code",
   "execution_count": null,
   "metadata": {},
   "outputs": [],
   "source": []
  }
 ],
 "metadata": {
  "kernelspec": {
   "display_name": "venv",
   "language": "python",
   "name": "python3"
  },
  "language_info": {
   "codemirror_mode": {
    "name": "ipython",
    "version": 3
   },
   "file_extension": ".py",
   "mimetype": "text/x-python",
   "name": "python",
   "nbconvert_exporter": "python",
   "pygments_lexer": "ipython3",
   "version": "3.11.1"
  }
 },
 "nbformat": 4,
 "nbformat_minor": 2
}
