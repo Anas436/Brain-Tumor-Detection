{
 "cells": [
  {
   "cell_type": "code",
   "execution_count": null,
   "metadata": {},
   "outputs": [],
   "source": [
    "%pwd"
   ]
  },
  {
   "cell_type": "code",
   "execution_count": null,
   "metadata": {},
   "outputs": [],
   "source": [
    "import os"
   ]
  },
  {
   "cell_type": "code",
   "execution_count": null,
   "metadata": {},
   "outputs": [],
   "source": [
    "os.chdir('../')"
   ]
  },
  {
   "cell_type": "code",
   "execution_count": null,
   "metadata": {},
   "outputs": [],
   "source": [
    "%pwd"
   ]
  },
  {
   "cell_type": "code",
   "execution_count": null,
   "metadata": {},
   "outputs": [],
   "source": [
    "import os\n",
    "import sys\n",
    "import numpy as np\n",
    "import tensorflow as tf \n",
    "import matplotlib.pyplot as plt\n",
    "import seaborn as sns\n",
    "sys.path.append(os.path.abspath(os.path.join(os.path.dirname(os.getcwd()),'../')))\n",
    "from src.logger import logging\n",
    "from src.exception import CustomException\n",
    "from src.components.componentCommon import dataset_arrangement"
   ]
  },
  {
   "cell_type": "code",
   "execution_count": null,
   "metadata": {},
   "outputs": [],
   "source": [
    "# laod all the dataset \n",
    "train_dataset,valid_dataset,test_dataset= dataset_arrangement()"
   ]
  },
  {
   "cell_type": "code",
   "execution_count": 12,
   "metadata": {},
   "outputs": [],
   "source": [
    "from tensorflow.keras.applications import DenseNet121,ResNet152V2,InceptionV3,MobileNetV2\n",
    "from tensorflow.keras.layers import Dense,Input,GlobalAveragePooling2D,Dropout,Flatten,BatchNormalization\n",
    "from tensorflow.keras.models import Model\n",
    "from tensorflow.keras.losses import SparseCategoricalCrossentropy\n",
    "from tensorflow.keras.optimizers import Adam\n",
    "from tensorflow.keras.callbacks import EarlyStopping,ModelCheckpoint"
   ]
  },
  {
   "cell_type": "markdown",
   "metadata": {},
   "source": [
    "# DenseNet121 "
   ]
  },
  {
   "cell_type": "code",
   "execution_count": 13,
   "metadata": {},
   "outputs": [],
   "source": [
    "base_model = DenseNet121(\n",
    "                    include_top=False,\n",
    "                    weights='imagenet',\n",
    "                    input_shape=(224,224,3)\n",
    "                    )\n",
    "model_inputs = Input(shape=(224,224,3))\n",
    "model_head = base_model(model_inputs)\n",
    "model_head = GlobalAveragePooling2D()(model_head)\n",
    "model_head = Dense(128,activation='relu')(model_head)\n",
    "model_head = BatchNormalization()(model_head)\n",
    "model_head = Dense(128,activation='relu')(model_head)\n",
    "model_head = BatchNormalization()(model_head)\n",
    "model_outputs = Dense(2,activation='softmax')(model_head)\n",
    "DenseNet121_model = Model(inputs=model_inputs,outputs=model_outputs,name = \"DenseNet121\")"
   ]
  },
  {
   "cell_type": "code",
   "execution_count": 14,
   "metadata": {},
   "outputs": [],
   "source": [
    "try:\n",
    "    DenseNet121_model.compile(\n",
    "        optimizer=Adam(learning_rate=0.0001),\n",
    "        loss=SparseCategoricalCrossentropy(),\n",
    "        metrics=['accuracy'])\n",
    "except Exception as e:\n",
    "    raise CustomException(e,sys)"
   ]
  },
  {
   "cell_type": "code",
   "execution_count": 15,
   "metadata": {},
   "outputs": [
    {
     "name": "stdout",
     "output_type": "stream",
     "text": [
      "Epoch 1/10\n",
      "\u001b[1m15/15\u001b[0m \u001b[32m━━━━━━━━━━━━━━━━━━━━\u001b[0m\u001b[37m\u001b[0m \u001b[1m109s\u001b[0m 3s/step - accuracy: 0.5489 - loss: 0.8831 - val_accuracy: 0.6800 - val_loss: 0.5814\n",
      "Epoch 2/10\n",
      "\u001b[1m15/15\u001b[0m \u001b[32m━━━━━━━━━━━━━━━━━━━━\u001b[0m\u001b[37m\u001b[0m \u001b[1m37s\u001b[0m 2s/step - accuracy: 0.7822 - loss: 0.3675 - val_accuracy: 0.6000 - val_loss: 0.7212\n",
      "Epoch 3/10\n",
      "\u001b[1m15/15\u001b[0m \u001b[32m━━━━━━━━━━━━━━━━━━━━\u001b[0m\u001b[37m\u001b[0m \u001b[1m39s\u001b[0m 3s/step - accuracy: 0.9043 - loss: 0.2215 - val_accuracy: 0.6000 - val_loss: 0.7856\n",
      "Epoch 4/10\n",
      "\u001b[1m15/15\u001b[0m \u001b[32m━━━━━━━━━━━━━━━━━━━━\u001b[0m\u001b[37m\u001b[0m \u001b[1m40s\u001b[0m 3s/step - accuracy: 0.8933 - loss: 0.3081 - val_accuracy: 0.7200 - val_loss: 0.5928\n",
      "Epoch 5/10\n",
      "\u001b[1m15/15\u001b[0m \u001b[32m━━━━━━━━━━━━━━━━━━━━\u001b[0m\u001b[37m\u001b[0m \u001b[1m42s\u001b[0m 3s/step - accuracy: 0.8749 - loss: 0.2938 - val_accuracy: 0.7400 - val_loss: 0.5455\n",
      "Epoch 6/10\n",
      "\u001b[1m15/15\u001b[0m \u001b[32m━━━━━━━━━━━━━━━━━━━━\u001b[0m\u001b[37m\u001b[0m \u001b[1m43s\u001b[0m 3s/step - accuracy: 0.8794 - loss: 0.2433 - val_accuracy: 0.6600 - val_loss: 0.7065\n",
      "Epoch 7/10\n",
      "\u001b[1m15/15\u001b[0m \u001b[32m━━━━━━━━━━━━━━━━━━━━\u001b[0m\u001b[37m\u001b[0m \u001b[1m50s\u001b[0m 3s/step - accuracy: 0.9467 - loss: 0.1624 - val_accuracy: 0.5800 - val_loss: 0.8926\n",
      "Epoch 8/10\n",
      "\u001b[1m15/15\u001b[0m \u001b[32m━━━━━━━━━━━━━━━━━━━━\u001b[0m\u001b[37m\u001b[0m \u001b[1m10318s\u001b[0m 737s/step - accuracy: 0.9649 - loss: 0.1051 - val_accuracy: 0.7600 - val_loss: 0.5773\n",
      "Epoch 9/10\n",
      "\u001b[1m15/15\u001b[0m \u001b[32m━━━━━━━━━━━━━━━━━━━━\u001b[0m\u001b[37m\u001b[0m \u001b[1m47s\u001b[0m 3s/step - accuracy: 0.9008 - loss: 0.2066 - val_accuracy: 0.5600 - val_loss: 1.0279\n",
      "Epoch 10/10\n",
      "\u001b[1m15/15\u001b[0m \u001b[32m━━━━━━━━━━━━━━━━━━━━\u001b[0m\u001b[37m\u001b[0m \u001b[1m58s\u001b[0m 4s/step - accuracy: 0.9836 - loss: 0.0674 - val_accuracy: 0.6600 - val_loss: 1.0033\n"
     ]
    }
   ],
   "source": [
    "try:\n",
    "    DenseNet121_model.fit(\n",
    "        train_dataset,\n",
    "        validation_data=valid_dataset,\n",
    "        epochs=10,\n",
    "        verbose=1\n",
    "    )\n",
    "except Exception as e:\n",
    "    raise CustomException(e,sys)"
   ]
  },
  {
   "cell_type": "markdown",
   "metadata": {},
   "source": [
    "# MobileNetV2"
   ]
  },
  {
   "cell_type": "code",
   "execution_count": 16,
   "metadata": {},
   "outputs": [
    {
     "name": "stdout",
     "output_type": "stream",
     "text": [
      "Downloading data from https://storage.googleapis.com/tensorflow/keras-applications/mobilenet_v2/mobilenet_v2_weights_tf_dim_ordering_tf_kernels_1.0_224_no_top.h5\n",
      "\u001b[1m9406464/9406464\u001b[0m \u001b[32m━━━━━━━━━━━━━━━━━━━━\u001b[0m\u001b[37m\u001b[0m \u001b[1m10s\u001b[0m 1us/step\n"
     ]
    }
   ],
   "source": [
    "base_model = MobileNetV2(\n",
    "                    include_top=False,\n",
    "                    weights='imagenet',\n",
    "                    input_shape=(224,224,3)\n",
    "                    )\n",
    "model_inputs = Input(shape=(224,224,3))\n",
    "model_head = base_model(model_inputs)\n",
    "model_head = GlobalAveragePooling2D()(model_head)\n",
    "model_head = Dense(64,activation='relu')(model_head)\n",
    "model_head = BatchNormalization()(model_head)\n",
    "model_head = Dense(64,activation='relu')(model_head)\n",
    "model_head = BatchNormalization()(model_head)\n",
    "model_outputs = Dense(2,activation='softmax')(model_head)\n",
    "MobileNet_model = Model(inputs=model_inputs,outputs=model_outputs,name = \"MobileNet\")"
   ]
  },
  {
   "cell_type": "code",
   "execution_count": 17,
   "metadata": {},
   "outputs": [
    {
     "name": "stdout",
     "output_type": "stream",
     "text": [
      "Epoch 1/10\n",
      "\u001b[1m15/15\u001b[0m \u001b[32m━━━━━━━━━━━━━━━━━━━━\u001b[0m\u001b[37m\u001b[0m \u001b[1m50s\u001b[0m 1s/step - accuracy: 0.5259 - loss: 0.9931 - val_accuracy: 0.3400 - val_loss: 1.0843\n",
      "Epoch 2/10\n",
      "\u001b[1m15/15\u001b[0m \u001b[32m━━━━━━━━━━━━━━━━━━━━\u001b[0m\u001b[37m\u001b[0m \u001b[1m11s\u001b[0m 759ms/step - accuracy: 0.7306 - loss: 0.5381 - val_accuracy: 0.3600 - val_loss: 1.1585\n",
      "Epoch 3/10\n",
      "\u001b[1m15/15\u001b[0m \u001b[32m━━━━━━━━━━━━━━━━━━━━\u001b[0m\u001b[37m\u001b[0m \u001b[1m11s\u001b[0m 749ms/step - accuracy: 0.8080 - loss: 0.4199 - val_accuracy: 0.5200 - val_loss: 0.8860\n",
      "Epoch 4/10\n",
      "\u001b[1m15/15\u001b[0m \u001b[32m━━━━━━━━━━━━━━━━━━━━\u001b[0m\u001b[37m\u001b[0m \u001b[1m11s\u001b[0m 742ms/step - accuracy: 0.8661 - loss: 0.3010 - val_accuracy: 0.3600 - val_loss: 1.2004\n",
      "Epoch 5/10\n",
      "\u001b[1m15/15\u001b[0m \u001b[32m━━━━━━━━━━━━━━━━━━━━\u001b[0m\u001b[37m\u001b[0m \u001b[1m11s\u001b[0m 744ms/step - accuracy: 0.8380 - loss: 0.4332 - val_accuracy: 0.2800 - val_loss: 1.3586\n",
      "Epoch 6/10\n",
      "\u001b[1m15/15\u001b[0m \u001b[32m━━━━━━━━━━━━━━━━━━━━\u001b[0m\u001b[37m\u001b[0m \u001b[1m11s\u001b[0m 738ms/step - accuracy: 0.9411 - loss: 0.1902 - val_accuracy: 0.4600 - val_loss: 1.2924\n",
      "Epoch 7/10\n",
      "\u001b[1m15/15\u001b[0m \u001b[32m━━━━━━━━━━━━━━━━━━━━\u001b[0m\u001b[37m\u001b[0m \u001b[1m11s\u001b[0m 763ms/step - accuracy: 0.9191 - loss: 0.2306 - val_accuracy: 0.3400 - val_loss: 2.0963\n",
      "Epoch 8/10\n",
      "\u001b[1m15/15\u001b[0m \u001b[32m━━━━━━━━━━━━━━━━━━━━\u001b[0m\u001b[37m\u001b[0m \u001b[1m11s\u001b[0m 752ms/step - accuracy: 0.9051 - loss: 0.2329 - val_accuracy: 0.4600 - val_loss: 1.2144\n",
      "Epoch 9/10\n",
      "\u001b[1m15/15\u001b[0m \u001b[32m━━━━━━━━━━━━━━━━━━━━\u001b[0m\u001b[37m\u001b[0m \u001b[1m12s\u001b[0m 759ms/step - accuracy: 0.9636 - loss: 0.1530 - val_accuracy: 0.4000 - val_loss: 1.4238\n",
      "Epoch 10/10\n",
      "\u001b[1m15/15\u001b[0m \u001b[32m━━━━━━━━━━━━━━━━━━━━\u001b[0m\u001b[37m\u001b[0m \u001b[1m12s\u001b[0m 772ms/step - accuracy: 0.9267 - loss: 0.1611 - val_accuracy: 0.4400 - val_loss: 1.7868\n"
     ]
    }
   ],
   "source": [
    "try:\n",
    "    MobileNet_model.compile(\n",
    "        optimizer=Adam(learning_rate=0.0001),\n",
    "        loss=SparseCategoricalCrossentropy(),\n",
    "        metrics=['accuracy'])\n",
    "except Exception as e:\n",
    "    raise CustomException(e,sys)\n",
    "try:\n",
    "    MobileNet_model.fit(\n",
    "        train_dataset,\n",
    "        validation_data=valid_dataset,\n",
    "        epochs=10,\n",
    "        verbose=1\n",
    "    )\n",
    "except Exception as e:\n",
    "    raise CustomException(e,sys)"
   ]
  },
  {
   "cell_type": "code",
   "execution_count": null,
   "metadata": {},
   "outputs": [],
   "source": []
  },
  {
   "cell_type": "code",
   "execution_count": null,
   "metadata": {},
   "outputs": [],
   "source": []
  },
  {
   "cell_type": "code",
   "execution_count": null,
   "metadata": {},
   "outputs": [],
   "source": []
  },
  {
   "cell_type": "code",
   "execution_count": null,
   "metadata": {},
   "outputs": [],
   "source": []
  },
  {
   "cell_type": "code",
   "execution_count": null,
   "metadata": {},
   "outputs": [],
   "source": []
  },
  {
   "cell_type": "code",
   "execution_count": null,
   "metadata": {},
   "outputs": [],
   "source": []
  },
  {
   "cell_type": "code",
   "execution_count": null,
   "metadata": {},
   "outputs": [],
   "source": []
  },
  {
   "cell_type": "code",
   "execution_count": null,
   "metadata": {},
   "outputs": [],
   "source": []
  },
  {
   "cell_type": "code",
   "execution_count": null,
   "metadata": {},
   "outputs": [],
   "source": []
  },
  {
   "cell_type": "code",
   "execution_count": null,
   "metadata": {},
   "outputs": [],
   "source": []
  },
  {
   "cell_type": "code",
   "execution_count": null,
   "metadata": {},
   "outputs": [],
   "source": []
  },
  {
   "cell_type": "code",
   "execution_count": null,
   "metadata": {},
   "outputs": [],
   "source": []
  },
  {
   "cell_type": "code",
   "execution_count": null,
   "metadata": {},
   "outputs": [],
   "source": []
  },
  {
   "cell_type": "code",
   "execution_count": null,
   "metadata": {},
   "outputs": [],
   "source": []
  }
 ],
 "metadata": {
  "kernelspec": {
   "display_name": "venv",
   "language": "python",
   "name": "python3"
  },
  "language_info": {
   "codemirror_mode": {
    "name": "ipython",
    "version": 3
   },
   "file_extension": ".py",
   "mimetype": "text/x-python",
   "name": "python",
   "nbconvert_exporter": "python",
   "pygments_lexer": "ipython3",
   "version": "3.11.1"
  }
 },
 "nbformat": 4,
 "nbformat_minor": 2
}
